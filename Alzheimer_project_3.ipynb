{
 "cells": [
  {
   "cell_type": "code",
   "execution_count": 3,
   "metadata": {},
   "outputs": [],
   "source": [
    "# Librerías necesarias para nuestro análisis:\n",
    "import numpy as np\n",
    "import pandas as pd\n",
    "impo\n",
    "import os\n",
    "\n",
    "\n",
    "# Modelos de predicción para entrenar el modelo.\n",
    "\n",
    "from sklearn.model_selection import train_test_split\n",
    "from sklearn.neighbors import KNeighborsClassifier\n",
    "from sklearn.metrics import accuracy_score\n",
    "from sklearn.metrics import confusion_matrix\n",
    "from sklearn.tree import DecisionTreeClassifier\n",
    "from sklearn.tree import DecisionTreeRegressor\n",
    "from sklearn.ensemble import RandomForestClassifier\n"
   ]
  },
  {
   "cell_type": "code",
   "execution_count": 2,
   "metadata": {},
   "outputs": [
    {
     "data": {
      "text/html": [
       "<div>\n",
       "<style scoped>\n",
       "    .dataframe tbody tr th:only-of-type {\n",
       "        vertical-align: middle;\n",
       "    }\n",
       "\n",
       "    .dataframe tbody tr th {\n",
       "        vertical-align: top;\n",
       "    }\n",
       "\n",
       "    .dataframe thead th {\n",
       "        text-align: right;\n",
       "    }\n",
       "</style>\n",
       "<table border=\"1\" class=\"dataframe\">\n",
       "  <thead>\n",
       "    <tr style=\"text-align: right;\">\n",
       "      <th></th>\n",
       "      <th>Gender</th>\n",
       "      <th>Age</th>\n",
       "      <th>EDUC</th>\n",
       "      <th>SES</th>\n",
       "      <th>MMSE</th>\n",
       "      <th>CDR</th>\n",
       "      <th>eTIV</th>\n",
       "      <th>nWBV</th>\n",
       "      <th>Group</th>\n",
       "    </tr>\n",
       "  </thead>\n",
       "  <tbody>\n",
       "    <tr>\n",
       "      <th>0</th>\n",
       "      <td>0</td>\n",
       "      <td>1</td>\n",
       "      <td>3</td>\n",
       "      <td>2</td>\n",
       "      <td>1</td>\n",
       "      <td>0.0</td>\n",
       "      <td>1987</td>\n",
       "      <td>0.696</td>\n",
       "      <td>0</td>\n",
       "    </tr>\n",
       "    <tr>\n",
       "      <th>1</th>\n",
       "      <td>0</td>\n",
       "      <td>1</td>\n",
       "      <td>3</td>\n",
       "      <td>2</td>\n",
       "      <td>1</td>\n",
       "      <td>0.0</td>\n",
       "      <td>2004</td>\n",
       "      <td>0.681</td>\n",
       "      <td>0</td>\n",
       "    </tr>\n",
       "    <tr>\n",
       "      <th>2</th>\n",
       "      <td>0</td>\n",
       "      <td>1</td>\n",
       "      <td>3</td>\n",
       "      <td>2</td>\n",
       "      <td>0</td>\n",
       "      <td>0.5</td>\n",
       "      <td>1678</td>\n",
       "      <td>0.736</td>\n",
       "      <td>1</td>\n",
       "    </tr>\n",
       "    <tr>\n",
       "      <th>3</th>\n",
       "      <td>0</td>\n",
       "      <td>1</td>\n",
       "      <td>3</td>\n",
       "      <td>2</td>\n",
       "      <td>1</td>\n",
       "      <td>0.5</td>\n",
       "      <td>1738</td>\n",
       "      <td>0.713</td>\n",
       "      <td>1</td>\n",
       "    </tr>\n",
       "    <tr>\n",
       "      <th>4</th>\n",
       "      <td>0</td>\n",
       "      <td>1</td>\n",
       "      <td>3</td>\n",
       "      <td>2</td>\n",
       "      <td>0</td>\n",
       "      <td>0.5</td>\n",
       "      <td>1698</td>\n",
       "      <td>0.701</td>\n",
       "      <td>1</td>\n",
       "    </tr>\n",
       "    <tr>\n",
       "      <th>...</th>\n",
       "      <td>...</td>\n",
       "      <td>...</td>\n",
       "      <td>...</td>\n",
       "      <td>...</td>\n",
       "      <td>...</td>\n",
       "      <td>...</td>\n",
       "      <td>...</td>\n",
       "      <td>...</td>\n",
       "      <td>...</td>\n",
       "    </tr>\n",
       "    <tr>\n",
       "      <th>368</th>\n",
       "      <td>0</td>\n",
       "      <td>1</td>\n",
       "      <td>4</td>\n",
       "      <td>1</td>\n",
       "      <td>1</td>\n",
       "      <td>0.5</td>\n",
       "      <td>1693</td>\n",
       "      <td>0.694</td>\n",
       "      <td>1</td>\n",
       "    </tr>\n",
       "    <tr>\n",
       "      <th>369</th>\n",
       "      <td>0</td>\n",
       "      <td>1</td>\n",
       "      <td>4</td>\n",
       "      <td>1</td>\n",
       "      <td>1</td>\n",
       "      <td>0.5</td>\n",
       "      <td>1688</td>\n",
       "      <td>0.675</td>\n",
       "      <td>1</td>\n",
       "    </tr>\n",
       "    <tr>\n",
       "      <th>370</th>\n",
       "      <td>1</td>\n",
       "      <td>0</td>\n",
       "      <td>3</td>\n",
       "      <td>2</td>\n",
       "      <td>1</td>\n",
       "      <td>0.0</td>\n",
       "      <td>1319</td>\n",
       "      <td>0.801</td>\n",
       "      <td>0</td>\n",
       "    </tr>\n",
       "    <tr>\n",
       "      <th>371</th>\n",
       "      <td>1</td>\n",
       "      <td>0</td>\n",
       "      <td>3</td>\n",
       "      <td>2</td>\n",
       "      <td>1</td>\n",
       "      <td>0.0</td>\n",
       "      <td>1327</td>\n",
       "      <td>0.796</td>\n",
       "      <td>0</td>\n",
       "    </tr>\n",
       "    <tr>\n",
       "      <th>372</th>\n",
       "      <td>1</td>\n",
       "      <td>1</td>\n",
       "      <td>3</td>\n",
       "      <td>2</td>\n",
       "      <td>1</td>\n",
       "      <td>0.0</td>\n",
       "      <td>1333</td>\n",
       "      <td>0.801</td>\n",
       "      <td>0</td>\n",
       "    </tr>\n",
       "  </tbody>\n",
       "</table>\n",
       "<p>373 rows × 9 columns</p>\n",
       "</div>"
      ],
      "text/plain": [
       "     Gender  Age  EDUC  SES  MMSE  CDR  eTIV   nWBV  Group\n",
       "0         0    1     3    2     1  0.0  1987  0.696      0\n",
       "1         0    1     3    2     1  0.0  2004  0.681      0\n",
       "2         0    1     3    2     0  0.5  1678  0.736      1\n",
       "3         0    1     3    2     1  0.5  1738  0.713      1\n",
       "4         0    1     3    2     0  0.5  1698  0.701      1\n",
       "..      ...  ...   ...  ...   ...  ...   ...    ...    ...\n",
       "368       0    1     4    1     1  0.5  1693  0.694      1\n",
       "369       0    1     4    1     1  0.5  1688  0.675      1\n",
       "370       1    0     3    2     1  0.0  1319  0.801      0\n",
       "371       1    0     3    2     1  0.0  1327  0.796      0\n",
       "372       1    1     3    2     1  0.0  1333  0.801      0\n",
       "\n",
       "[373 rows x 9 columns]"
      ]
     },
     "execution_count": 2,
     "metadata": {},
     "output_type": "execute_result"
    }
   ],
   "source": [
    "# Cargamos y leemos el fichero del modelo:\n",
    "\n",
    "df_clean = pd.read_csv('clean_data.csv')\n",
    "\n",
    "df_clean\n"
   ]
  },
  {
   "cell_type": "code",
   "execution_count": null,
   "metadata": {},
   "outputs": [
    {
     "name": "stdout",
     "output_type": "stream",
     "text": [
      "Precisión: 0.5319148936170213\n"
     ]
    }
   ],
   "source": [
    "# 3.1.1 Intento 1: kNN predeterminado con la distancia de Euclídea.\n",
    "\n",
    "# La distancia euclidiana es una métrica de distancia que se utiliza para datos continuos.\n",
    "\n",
    "x = df_clean.iloc[:, :-1] # Seleccionamos todas las columnas excepto la última\n",
    "\n",
    "y = df_clean.iloc[:, -1] # Elegimos sólo la última columna\n",
    "\n",
    "x_train, x_test, y_train, y_test = train_test_split(x, y, test_size=0.25)\n",
    "\n",
    "knn = KNeighborsClassifier(n_neighbors=30) # Ajustamos el parámetro 'k'.\n",
    "\n",
    "knn.fit(x_train, y_train)\n",
    "\n",
    "y_pred = knn.predict(x_test)\n",
    "\n",
    "accuracy = accuracy_score(y_test, y_pred)\n",
    "\n",
    "print(f'Precisión: {accuracy}')"
   ]
  },
  {
   "cell_type": "code",
   "execution_count": 3,
   "metadata": {},
   "outputs": [
    {
     "name": "stdout",
     "output_type": "stream",
     "text": [
      "El valor óptimo de k es: 2 con una precisión del 63.83%\n"
     ]
    },
    {
     "data": {
      "image/png": "[encoded data removed]",
      "text/plain": [
       "<Figure size 1000x600 with 1 Axes>"
      ]
     },
     "metadata": {},
     "output_type": "display_data"
    }
   ],
   "source": [
    "import pandas as pd\n",
    "from sklearn.metrics import accuracy_score\n",
    "from sklearn.model_selection import train_test_split\n",
    "from sklearn.neighbors import KNeighborsClassifier\n",
    "\n",
    "x = df_clean.iloc[:, :-1]\n",
    "y = df_clean.iloc[:, -1]\n",
    "\n",
    "x_train, x_test, y_train, y_test = train_test_split(x, y, test_size=0.25)\n",
    "\n",
    "# Range de 'k' a probar\n",
    "k_range = list(range(1, 31))  # Convert range to list\n",
    "\n",
    "# Lista para mostrar la precision de 'k'\n",
    "accuracies = []\n",
    "\n",
    "for k in k_range:\n",
    "    knn = KNeighborsClassifier(n_neighbors=k)\n",
    "    knn.fit(x_train, y_train)\n",
    "    y_pred = knn.predict(x_test)\n",
    "    accuracy = accuracy_score(y_test, y_pred)\n",
    "    accuracies.append(accuracy)\n",
    "\n",
    "# Encontrar la 'k' con mayor precision\n",
    "k_optimal = k_range[accuracies.index(max(accuracies))]\n",
    "\n",
    "# Mostrar grafico de 'k' optimo con pandas\n",
    "df = pd.DataFrame({'k': k_range, 'accuracy': accuracies})\n",
    "df.set_index('k').plot(grid=True, figsize=(10, 6))\n",
    "\n",
    "print(f'El valor óptimo de k es: {k_optimal} con una precisión del {max(accuracies)*100:.2f}%')"
   ]
  },
  {
   "cell_type": "markdown",
   "metadata": {},
   "source": [
    "Para encontrar el valor óptimo de 'k' (el número de vecinos más cercanos a considerar) en el algoritmo k-Nearest Neighbors (kNN), iteraramos sobre un rango de valores posibles de 'k' y calcular la precisión (accuracy) para cada uno. En este gráfico el valor ´k´ con mayor precisión es el 2, que destaca por encima de los demás en la línea de puntos."
   ]
  },
  {
   "cell_type": "code",
   "execution_count": null,
   "metadata": {},
   "outputs": [
    {
     "name": "stdout",
     "output_type": "stream",
     "text": [
      "[[184   6   0]\n",
      " [ 21 117   8]\n",
      " [ 24   7   6]]\n"
     ]
    }
   ],
   "source": [
    "# 3.1.2 Intento 1: matriz de confusión.\n",
    "\n",
    "x = df_clean.iloc[:, :6]\n",
    "\n",
    "y = df_clean['Group']\n",
    "\n",
    "# Escogemos k=10 porque es el óptimo.\n",
    "\n",
    "knn = KNeighborsClassifier(n_neighbors=10)\n",
    "\n",
    "knn.fit(x, y)\n",
    "\n",
    "y_pred = knn.predict(x)\n",
    "\n",
    "confm = confusion_matrix(y, y_pred)\n",
    "\n",
    "print(confm)"
   ]
  },
  {
   "cell_type": "markdown",
   "metadata": {},
   "source": [
    "Conclusiones de los resultados\n",
    "\n",
    "En primer lugar descartamos que el dataset sea sensible al ruido  ya que el 'k' seleccionado siempre da valores próximos al 60%.\n",
    "Por ende, el 'k' óptimo  está aproximadamente será entre k=1 y k¡10, siendo un valor medianamente aceptable.\n",
    "La matriz de confusión es excelente ya que no refleja falsos positivos ni falsos negativos.\n",
    "Se debe tener en cuenta que al reiniciar el Kernel y ejecutarlo todo de nuevo los resultados del KNN no tienen por qué ser exactamente el mismo."
   ]
  },
  {
   "cell_type": "markdown",
   "metadata": {},
   "source": [
    " Otros posibles intentos.\n",
    "\n",
    "Se ha utilizado la distancia Euclídea por ser la estándar y también las distancias Manhattan y Chebyshev, ya que son útiles para trabajar con datos númericos o con rangos.\n",
    "Descartamos la Jaccard y la Hamming por estar orientadas a datos binarios. \n",
    "\n"
   ]
  },
  {
   "cell_type": "code",
   "execution_count": null,
   "metadata": {},
   "outputs": [
    {
     "name": "stdout",
     "output_type": "stream",
     "text": [
      "Precisión: 0.8617021276595744\n"
     ]
    }
   ],
   "source": [
    "# Vamos a probar con un modelo más avanzado de Árbol de decisión\n",
    "\n",
    "x = df_clean.iloc[:, :-1]  # Select all columns except the last one as features\n",
    "y = df_clean.iloc[:, -1]  # Select the last column as the target variable\n",
    "\n",
    "# Dividir los datos en training set and test set\n",
    "x_train, x_test, y_train, y_test = train_test_split(x, y, test_size=0.25)\n",
    "\n",
    "# Crear un clasificador de árbol de decisión\n",
    "clf = DecisionTreeClassifier()\n",
    "\n",
    "# Entrenar el modelo \n",
    "clf.fit(x_train, y_train)\n",
    "\n",
    "# Predecir la variable objetivo para los datos de prueba\n",
    "y_pred = clf.predict(x_test)\n",
    "\n",
    "# Calcular la precisión del modelo\n",
    "accuracy = accuracy_score(y_test, y_pred)\n",
    "\n",
    "print(f'Precisión: {accuracy}')"
   ]
  },
  {
   "cell_type": "code",
   "execution_count": null,
   "metadata": {},
   "outputs": [
    {
     "data": {
      "image/png": "[encoded data removed]",
      "text/plain": [
       "<Figure size 640x480 with 2 Axes>"
      ]
     },
     "metadata": {},
     "output_type": "display_data"
    }
   ],
   "source": [
    "cm = confusion_matrix(y_test, y_pred)\n",
    "\n",
    "# Visualizar mstrix de confusión\n",
    "sns.heatmap(cm, annot=True, fmt='d')\n",
    "plt.show()"
   ]
  },
  {
   "cell_type": "code",
   "execution_count": null,
   "metadata": {},
   "outputs": [
    {
     "name": "stdout",
     "output_type": "stream",
     "text": [
      "Error Cuadrático Medio: 0.20212765957446807\n",
      "Raíz del ECM: 0.4495860980662859\n",
      "Rango de la vble endógena: 2\n"
     ]
    }
   ],
   "source": [
    "# 4.2.1 Regresión.\n",
    "\n",
    "from sklearn.tree import DecisionTreeRegressor\n",
    "\n",
    "from sklearn.metrics import mean_squared_error\n",
    "\n",
    "x = df_clean.iloc[:, :-1] \n",
    "\n",
    "y = df_clean.iloc[:, -1] \n",
    "\n",
    "x_train, x_test, y_train, y_test = train_test_split(x, y, test_size=0.25)\n",
    "\n",
    "reg = DecisionTreeRegressor()\n",
    "\n",
    "reg.fit(x_train, y_train)\n",
    "\n",
    "y_pred = reg.predict(x_test)\n",
    "\n",
    "mse = mean_squared_error(y_test, y_pred)\n",
    "\n",
    "rmse = np.sqrt(mse)\n",
    "\n",
    "y_range = y.max() - y.min()\n",
    "\n",
    "print(f'Error Cuadrático Medio: {mse}')\n",
    "\n",
    "print(f'Raíz del ECM: {rmse}')\n",
    "\n",
    "print(f'Rango de la vble endógena: {y_range}')"
   ]
  },
  {
   "cell_type": "code",
   "execution_count": 18,
   "metadata": {},
   "outputs": [
    {
     "name": "stdout",
     "output_type": "stream",
     "text": [
      "Precisión: 0.9042553191489362\n",
      "              precision    recall  f1-score   support\n",
      "\n",
      "           0       0.94      1.00      0.97        45\n",
      "           1       0.88      0.97      0.93        38\n",
      "           2       0.75      0.27      0.40        11\n",
      "\n",
      "    accuracy                           0.90        94\n",
      "   macro avg       0.86      0.75      0.76        94\n",
      "weighted avg       0.89      0.90      0.88        94\n",
      "\n"
     ]
    }
   ],
   "source": [
    "from sklearn.ensemble import RandomForestClassifier\n",
    "from sklearn.metrics import accuracy_score, classification_report\n",
    "from sklearn.model_selection import train_test_split\n",
    "\n",
    "# Assuming 'df_clean' is your DataFrame\n",
    "x = df_clean.iloc[:, :-1]  # Select all columns except the last one as features\n",
    "y = df_clean.iloc[:, -1]  # Select the last column as the target variable\n",
    "\n",
    "# Split the data into training set and test set\n",
    "x_train, x_test, y_train, y_test = train_test_split(x, y, test_size=0.25)\n",
    "\n",
    "# Create a Random Forest Classifier\n",
    "clf = RandomForestClassifier()\n",
    "\n",
    "# Train the classifier with the training data\n",
    "clf.fit(x_train, y_train)\n",
    "\n",
    "# Predict the target variable for the test data\n",
    "y_pred = clf.predict(x_test)\n",
    "\n",
    "# Calculate the accuracy of the model\n",
    "accuracy = accuracy_score(y_test, y_pred)\n",
    "\n",
    "# Print the accuracy\n",
    "print(f'Precisión: {accuracy}')\n",
    "\n",
    "# Print the classification report\n",
    "report = classification_report(y_test, y_pred)\n",
    "print(report)"
   ]
  },
  {
   "cell_type": "markdown",
   "metadata": {},
   "source": [
    "He usado un modelo ´lazy´ kNN y dos más complejos como DecisionTree y Ramdon Forest dónde compruebo la calidad del dataset.\n",
    "\n",
    "El mejor modelo con una alta precisión de 90% es el Ramdon Forest."
   ]
  }
 ],
 "metadata": {
  "kernelspec": {
   "display_name": "Python 3",
   "language": "python",
   "name": "python3"
  },
  "language_info": {
   "codemirror_mode": {
    "name": "ipython",
    "version": 3
   },
   "file_extension": ".py",
   "mimetype": "text/x-python",
   "name": "python",
   "nbconvert_exporter": "python",
   "pygments_lexer": "ipython3",
   "version": "3.11.5"
  }
 },
 "nbformat": 4,
 "nbformat_minor": 2
}
