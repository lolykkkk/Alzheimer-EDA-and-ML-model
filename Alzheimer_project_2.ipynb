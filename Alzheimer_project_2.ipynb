{
 "cells": [
  {
   "cell_type": "markdown",
   "metadata": {},
   "source": []
  },
  {
   "cell_type": "code",
   "execution_count": 40,
   "metadata": {},
   "outputs": [],
   "source": [
    "# Librerías necesarias para nuestro análisis:\n",
    "import numpy as np\n",
    "import pandas as pd\n",
    "import seaborn as sns\n",
    "import matplotlib.pyplot as plt\n",
    "import matplotlib.patches as mpatches\n",
    "import plotly_express as px\n",
    "import plotly.graph_objects as go\n",
    "import os\n",
    "\n",
    "# Modelos clasificatorios:\n",
    "from sklearn.metrics import cohen_kappa_score\n",
    "from sklearn.metrics import f1_score\n",
    "from sklearn.metrics.pairwise import cosine_distances\n",
    "from sklearn.model_selection import train_test_split\n",
    "from sklearn.linear_model import LogisticRegression\n",
    "from sklearn.metrics import classification_report\n",
    "from sklearn.preprocessing import StandardScaler\n",
    "from sklearn.pipeline import make_pipeline\n",
    "from sklearn.tree import DecisionTreeClassifier\n",
    "from sklearn.metrics import accuracy_score\n"
   ]
  },
  {
   "cell_type": "markdown",
   "metadata": {},
   "source": [
    "COEFICIENTES PARA ESTUDIAR LA CALIDAD DE LOS DATOS DEL DATASET EN TÉRMINOS ANALIZAR Y PREDICIÓN "
   ]
  },
  {
   "cell_type": "code",
   "execution_count": 22,
   "metadata": {},
   "outputs": [],
   "source": [
    "# Cargar el dataset a analizar:\n",
    "df_clean = pd.read_csv('clean_data.csv')"
   ]
  },
  {
   "cell_type": "code",
   "execution_count": 23,
   "metadata": {},
   "outputs": [
    {
     "name": "stdout",
     "output_type": "stream",
     "text": [
      "El coeficiente kappa es: 0.8444\n"
     ]
    },
    {
     "name": "stderr",
     "output_type": "stream",
     "text": [
      "C:\\Users\\campo\\AppData\\Roaming\\Python\\Python311\\site-packages\\sklearn\\linear_model\\_logistic.py:460: ConvergenceWarning: lbfgs failed to converge (status=1):\n",
      "STOP: TOTAL NO. of ITERATIONS REACHED LIMIT.\n",
      "\n",
      "Increase the number of iterations (max_iter) or scale the data as shown in:\n",
      "    https://scikit-learn.org/stable/modules/preprocessing.html\n",
      "Please also refer to the documentation for alternative solver options:\n",
      "    https://scikit-learn.org/stable/modules/linear_model.html#logistic-regression\n",
      "  n_iter_i = _check_optimize_result(\n"
     ]
    }
   ],
   "source": [
    "# Probamos el coeficiente Kappa\n",
    "x = df_clean[['Gender', 'Age', 'EDUC', 'SES', 'MMSE', 'CDR', 'eTIV']] #escogemos todas las columnaa menos la ultima\n",
    "y = df_clean['Group'] #escogemos solo la ultima\n",
    "\n",
    "x_train, x_test, y_train, y_test = train_test_split(x, y, test_size=0.25)\n",
    "\n",
    "modelo = LogisticRegression()\n",
    "modelo.fit(x_train, y_train)\n",
    "\n",
    "y_pred = modelo.predict(x_test)\n",
    "\n",
    "kappa = cohen_kappa_score(y_test, y_pred)\n",
    "\n",
    "print(f\"El coeficiente kappa es: {kappa:.4f}\")\n"
   ]
  },
  {
   "cell_type": "markdown",
   "metadata": {},
   "source": [
    "Conclusión: 0.8444 demuestra un porcentaje muy bueno, por lo que sugiere que los clasificadores están alineados en sus predicciones.\n",
    "Valores positivos y cercanos a 1 señalan mayor concordancia que la esperada por azar."
   ]
  },
  {
   "cell_type": "code",
   "execution_count": 24,
   "metadata": {},
   "outputs": [
    {
     "name": "stdout",
     "output_type": "stream",
     "text": [
      "Distancia del coseno: 1.913671443531939e-10\n"
     ]
    }
   ],
   "source": [
    "# Distancia del coseno:\n",
    "\n",
    "from sklearn.metrics.pairwise import cosine_distances\n",
    "\n",
    "vector1 = df_clean.iloc[0, :-1].values\n",
    "vector2 = df_clean.iloc[1, :-1].values\n",
    "\n",
    "distancia = cosine_distances([vector1], [vector2])[0, 0]\n",
    "\n",
    "print(f\"Distancia del coseno: {distancia}\")"
   ]
  },
  {
   "cell_type": "markdown",
   "metadata": {},
   "source": [
    "El resultado obtenido por la distancia del coseno está en notación científica, por lo que el valor es bastante pequeño, lo que indica que la distancia entre los vectores es cercana, por lo que hay una alta similitud, asi que la similitud entre los datos puede ser positiva."
   ]
  },
  {
   "cell_type": "code",
   "execution_count": 35,
   "metadata": {},
   "outputs": [
    {
     "name": "stdout",
     "output_type": "stream",
     "text": [
      "              precision    recall  f1-score   support\n",
      "\n",
      "           0       0.86      0.98      0.92        45\n",
      "           1       0.86      1.00      0.92        36\n",
      "           2       1.00      0.08      0.14        13\n",
      "\n",
      "    accuracy                           0.86        94\n",
      "   macro avg       0.91      0.68      0.66        94\n",
      "weighted avg       0.88      0.86      0.81        94\n",
      "\n"
     ]
    }
   ],
   "source": [
    "#  Calculamos la medida F1\n",
    "\n",
    "\n",
    "from sklearn.preprocessing import StandardScaler\n",
    "from sklearn.pipeline import make_pipeline\n",
    "\n",
    "x = df_clean.iloc[:, :-1]\n",
    "y = df_clean.iloc[:, -1]\n",
    "\n",
    "x_train, x_test, y_train, y_test = train_test_split(x, y, test_size=0.25)\n",
    "\n",
    "# Crear un pipeline que primero escala los datos y luego aplica la Regresión Logística. \n",
    "# También aumenta el número máximo de iteraciones permitidas en el modelo de Regresión Logística a 1000.\n",
    "modelo = make_pipeline(StandardScaler(), LogisticRegression(max_iter=1000))\n",
    "modelo.fit(x_train, y_train)\n",
    "\n",
    "y_pred = modelo.predict(x_test)\n",
    "\n",
    "# Generar classification report\n",
    "report = classification_report(y_test, y_pred)\n",
    "\n",
    "print(report)\n"
   ]
  },
  {
   "cell_type": "markdown",
   "metadata": {},
   "source": [
    "Usamos una medida F-1 para evaluar el rendimiento del modelo.  Con una precision del 86%, indiga un porcentaje de predicciones correctas bueno.\n",
    "La exhaustivvidad del recall es del 98% para la clase 0 y del 100% para la clase 1. Esto indica que el modelo identifica correctamente la mayoría de los casos positivos."
   ]
  },
  {
   "cell_type": "code",
   "execution_count": 41,
   "metadata": {},
   "outputs": [
    {
     "name": "stdout",
     "output_type": "stream",
     "text": [
      "Precisión: 0.9148936170212766\n"
     ]
    }
   ],
   "source": [
    "# Vamos a probar con un modelo más avanzado de Árbol de decisión\n",
    "\n",
    "\n",
    "x = df_clean.iloc[:, :-1]  # Select all columns except the last one as features\n",
    "y = df_clean.iloc[:, -1]  # Select the last column as the target variable\n",
    "\n",
    "# Dividir los datos en training set and test set\n",
    "x_train, x_test, y_train, y_test = train_test_split(x, y, test_size=0.25)\n",
    "\n",
    "# Crear un clasificador de árbol de decisión\n",
    "clf = DecisionTreeClassifier()\n",
    "\n",
    "# Train the classifier with the training data\n",
    "clf.fit(x_train, y_train)\n",
    "\n",
    "# Predict the target variable for the test data\n",
    "y_pred = clf.predict(x_test)\n",
    "\n",
    "# Calculate the accuracy of the model\n",
    "accuracy = accuracy_score(y_test, y_pred)\n",
    "\n",
    "print(f'Precisión: {accuracy}')"
   ]
  }
 ],
 "metadata": {
  "kernelspec": {
   "display_name": "Python 3",
   "language": "python",
   "name": "python3"
  },
  "language_info": {
   "codemirror_mode": {
    "name": "ipython",
    "version": 3
   },
   "file_extension": ".py",
   "mimetype": "text/x-python",
   "name": "python",
   "nbconvert_exporter": "python",
   "pygments_lexer": "ipython3",
   "version": "3.11.5"
  }
 },
 "nbformat": 4,
 "nbformat_minor": 2
}
